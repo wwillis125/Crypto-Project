{
 "cells": [
  {
   "cell_type": "code",
   "execution_count": 1,
   "metadata": {},
   "outputs": [],
   "source": [
    "import pandas as pd\n",
    "import numpy as np\n",
    "import matplotlib.pyplot as plt\n",
    "import json\n",
    "import requests\n",
    "import time\n",
    "import seaborn as sns"
   ]
  },
  {
   "cell_type": "code",
   "execution_count": null,
   "metadata": {},
   "outputs": [],
   "source": [
    "### TICKETMASTER"
   ]
  },
  {
   "cell_type": "code",
   "execution_count": 5,
   "metadata": {},
   "outputs": [],
   "source": [
    "api_t = 'QcQWohDDrbPKAHTmqzapCLHT2Vzz1wVK'\n"
   ]
  },
  {
   "cell_type": "code",
   "execution_count": 78,
   "metadata": {},
   "outputs": [],
   "source": [
    "repo = requests.get('https://app.ticketmaster.com/discovery/v2/events.json?classificationName=music&size=1000&apikey=QcQWohDDrbPKAHTmqzapCLHT2Vzz1wVK'.format(api_t))\n"
   ]
  },
  {
   "cell_type": "code",
   "execution_count": 87,
   "metadata": {},
   "outputs": [
    {
     "data": {
      "text/plain": [
       "dict_keys(['name', 'type', 'id', 'test', 'url', 'locale', 'images', 'sales', 'dates', 'classifications', 'promoter', 'promoters', 'pleaseNote', 'priceRanges', 'products', 'seatmap', 'ticketLimit', '_links', '_embedded'])"
      ]
     },
     "execution_count": 87,
     "metadata": {},
     "output_type": "execute_result"
    }
   ],
   "source": [
    "repo.json()['_embedded']['events'][1].keys()"
   ]
  },
  {
   "cell_type": "code",
   "execution_count": 103,
   "metadata": {
    "scrolled": true
   },
   "outputs": [
    {
     "data": {
      "text/plain": [
       "[{'id': 'vvG1zZ4ViZYU5O',\n",
       "  'url': 'https://www.ticketmaster.com/hotel-california-tour-laneone-upgrade-package-atlanta-georgia-02-07-2020/event/0E00574B00C362E0',\n",
       "  'type': 'VIP',\n",
       "  'name': 'Hotel California Tour - LaneOne Upgrade Package (Ticket Not Included)'}]"
      ]
     },
     "execution_count": 103,
     "metadata": {},
     "output_type": "execute_result"
    }
   ],
   "source": [
    "repo.json()['_embedded']['events'][0]['products']"
   ]
  },
  {
   "cell_type": "code",
   "execution_count": 51,
   "metadata": {},
   "outputs": [
    {
     "data": {
      "text/plain": [
       "[{'primary': True,\n",
       "  'segment': {'id': 'KZFzniwnSyZfZ7v7nE', 'name': 'Sports'},\n",
       "  'genre': {'id': 'KnvZfZ7vAdE', 'name': 'Football'},\n",
       "  'subGenre': {'id': 'KZazBEonSMnZfZ7vFE1', 'name': 'NFL'},\n",
       "  'type': {'id': 'KZAyXgnZfZ7v7l1', 'name': 'Group'},\n",
       "  'subType': {'id': 'KZFzBErXgnZfZ7vA7d', 'name': 'Team'},\n",
       "  'family': False}]"
      ]
     },
     "execution_count": 51,
     "metadata": {},
     "output_type": "execute_result"
    }
   ],
   "source": [
    "repo.json()['_embedded']['events'][0]['_embedded']['attractions'][0]['classifications']"
   ]
  },
  {
   "cell_type": "code",
   "execution_count": 55,
   "metadata": {},
   "outputs": [],
   "source": [
    "sym = pd.DataFrame(repo.json()['_embedded']['events'])"
   ]
  },
  {
   "cell_type": "code",
   "execution_count": 62,
   "metadata": {
    "scrolled": true
   },
   "outputs": [],
   "source": [
    "lisp = []\n",
    "for event in repo.json()['_embedded']['events']:\n",
    "    lisp.append(event)\n",
    "    \n",
    "    "
   ]
  },
  {
   "cell_type": "code",
   "execution_count": 67,
   "metadata": {},
   "outputs": [
    {
     "data": {
      "text/plain": [
       "{'name': 'Monster Jam',\n",
       " 'type': 'event',\n",
       " 'id': 'vvG1VZ4Yw2Ly1e',\n",
       " 'test': False,\n",
       " 'url': 'https://www.ticketmaster.com/monster-jam-tampa-florida-01-11-2020/event/0D00570C8F7F9282',\n",
       " 'locale': 'en-us',\n",
       " 'images': [{'ratio': '16_9',\n",
       "   'url': 'https://s1.ticketm.net/dam/a/c4e/92102166-b67c-4449-b1a5-395cd1f9ac4e_1154611_RECOMENDATION_16_9.jpg',\n",
       "   'width': 100,\n",
       "   'height': 56,\n",
       "   'fallback': False},\n",
       "  {'ratio': '16_9',\n",
       "   'url': 'https://s1.ticketm.net/dam/a/c4e/92102166-b67c-4449-b1a5-395cd1f9ac4e_1154611_RETINA_LANDSCAPE_16_9.jpg',\n",
       "   'width': 1136,\n",
       "   'height': 639,\n",
       "   'fallback': False},\n",
       "  {'ratio': '3_2',\n",
       "   'url': 'https://s1.ticketm.net/dam/a/c4e/92102166-b67c-4449-b1a5-395cd1f9ac4e_1154611_TABLET_LANDSCAPE_3_2.jpg',\n",
       "   'width': 1024,\n",
       "   'height': 683,\n",
       "   'fallback': False},\n",
       "  {'ratio': '16_9',\n",
       "   'url': 'https://s1.ticketm.net/dam/a/c4e/92102166-b67c-4449-b1a5-395cd1f9ac4e_1154611_RETINA_PORTRAIT_16_9.jpg',\n",
       "   'width': 640,\n",
       "   'height': 360,\n",
       "   'fallback': False},\n",
       "  {'ratio': '3_2',\n",
       "   'url': 'https://s1.ticketm.net/dam/a/c4e/92102166-b67c-4449-b1a5-395cd1f9ac4e_1154611_ARTIST_PAGE_3_2.jpg',\n",
       "   'width': 305,\n",
       "   'height': 203,\n",
       "   'fallback': False},\n",
       "  {'ratio': '16_9',\n",
       "   'url': 'https://s1.ticketm.net/dam/a/c4e/92102166-b67c-4449-b1a5-395cd1f9ac4e_1154611_EVENT_DETAIL_PAGE_16_9.jpg',\n",
       "   'width': 205,\n",
       "   'height': 115,\n",
       "   'fallback': False},\n",
       "  {'ratio': '3_2',\n",
       "   'url': 'https://s1.ticketm.net/dam/a/c4e/92102166-b67c-4449-b1a5-395cd1f9ac4e_1154611_RETINA_PORTRAIT_3_2.jpg',\n",
       "   'width': 640,\n",
       "   'height': 427,\n",
       "   'fallback': False},\n",
       "  {'ratio': '16_9',\n",
       "   'url': 'https://s1.ticketm.net/dam/a/c4e/92102166-b67c-4449-b1a5-395cd1f9ac4e_1154611_TABLET_LANDSCAPE_LARGE_16_9.jpg',\n",
       "   'width': 2048,\n",
       "   'height': 1152,\n",
       "   'fallback': False},\n",
       "  {'ratio': '16_9',\n",
       "   'url': 'https://s1.ticketm.net/dam/a/c4e/92102166-b67c-4449-b1a5-395cd1f9ac4e_1154611_TABLET_LANDSCAPE_16_9.jpg',\n",
       "   'width': 1024,\n",
       "   'height': 576,\n",
       "   'fallback': False},\n",
       "  {'ratio': '4_3',\n",
       "   'url': 'https://s1.ticketm.net/dam/a/c4e/92102166-b67c-4449-b1a5-395cd1f9ac4e_1154611_CUSTOM.jpg',\n",
       "   'width': 305,\n",
       "   'height': 225,\n",
       "   'fallback': False}],\n",
       " 'sales': {'public': {'startDateTime': '2019-09-24T14:00:00Z',\n",
       "   'startTBD': False,\n",
       "   'endDateTime': '2020-01-12T00:00:00Z'},\n",
       "  'presales': [{'startDateTime': '2019-09-17T14:00:00Z',\n",
       "    'endDateTime': '2019-09-24T03:59:00Z',\n",
       "    'name': 'Feld Preferred Presale'},\n",
       "   {'startDateTime': '2019-09-19T14:00:00Z',\n",
       "    'endDateTime': '2019-09-24T03:59:00Z',\n",
       "    'name': 'Ticketmaster & Venue Presale'}]},\n",
       " 'dates': {'start': {'localDate': '2020-01-11',\n",
       "   'localTime': '19:00:00',\n",
       "   'dateTime': '2020-01-12T00:00:00Z',\n",
       "   'dateTBD': False,\n",
       "   'dateTBA': False,\n",
       "   'timeTBA': False,\n",
       "   'noSpecificTime': False},\n",
       "  'timezone': 'America/New_York',\n",
       "  'status': {'code': 'onsale'},\n",
       "  'spanMultipleDays': False},\n",
       " 'classifications': [{'primary': True,\n",
       "   'segment': {'id': 'KZFzniwnSyZfZ7v7nE', 'name': 'Sports'},\n",
       "   'genre': {'id': 'KnvZfZ7vA7k', 'name': 'Motorsports/Racing'},\n",
       "   'subGenre': {'id': 'KZazBEonSMnZfZ7vFt7', 'name': 'Motorsports/Racing'},\n",
       "   'type': {'id': 'KZAyXgnZfZ7v7nI', 'name': 'Undefined'},\n",
       "   'subType': {'id': 'KZFzBErXgnZfZ7v7lJ', 'name': 'Undefined'},\n",
       "   'family': False}],\n",
       " 'promoter': {'id': '2515',\n",
       "  'name': 'FELD MOTORSPORTS',\n",
       "  'description': 'FELD MOTORSPORTS / NTL / USA'},\n",
       " 'promoters': [{'id': '2515',\n",
       "   'name': 'FELD MOTORSPORTS',\n",
       "   'description': 'FELD MOTORSPORTS / NTL / USA'}],\n",
       " 'info': 'Monster Jam® is the big leagues of motorsports competition, where 12,000-pound trucks and the world-class athletes who drive them tear up the dirt with gravity-defying feats. Engineered to perfection, the legendary Grave Digger®, Max-D, El Toro Loco® and many more push all limits in Freestyle, Skills Challenge, and Racing competitions. The Series Champion receives an automatic bid to the prestigious Monster Jam World Finals® to compete for the title of World Champion. This is full-throttle family fun. This. Is. Monster Jam.',\n",
       " 'pleaseNote': 'Ages Two and Older Require a Ticket. *Prices subject to change. Family Sections are 242, 243, 244, 245. NO ALCOHOL ALLOWED IN FAMILY SECTIONS. Competitors are subject to change. Note: Costumes not permitted for guests 14 years & older. Event takes place RAIN or SHINE.',\n",
       " 'priceRanges': [{'type': 'standard',\n",
       "   'currency': 'USD',\n",
       "   'min': 15.0,\n",
       "   'max': 65.0}],\n",
       " 'products': [{'id': 'vvG1VZ4Yw2sy1i',\n",
       "   'url': 'https://www.ticketmaster.com/monster-jam-pit-pass-preshow-pit-tampa-florida-01-11-2020/event/0D00570C8FC792AC',\n",
       "   'type': 'Special Entry',\n",
       "   'name': 'Monster Jam Pit Pass: Preshow Pit Party From 2:30pm-5:30pm'},\n",
       "  {'id': 'vvG1VZ4Yw8ka5f',\n",
       "   'url': 'https://www.ticketmaster.com/monster-jam-pit-party-early-access-tampa-florida-01-11-2020/event/0D00570C901892D4',\n",
       "   'type': 'Special Entry',\n",
       "   'name': 'Monster Jam Pit Party Early Access Pass: Early Entry 1:30pm-2:30pm'},\n",
       "  {'id': 'vvG1VZ4YwEanar',\n",
       "   'url': 'https://www.ticketmaster.com/monster-jam-2020-official-souvenir-tag-tampa-florida-01-11-2020/event/0D00570CA726A25E',\n",
       "   'type': 'Upsell',\n",
       "   'name': 'Monster Jam 2020 - Official Souvenir Tag'}],\n",
       " 'seatmap': {'staticUrl': 'https://maps.ticketmaster.com/maps/geometry/3/event/0D00570C8F7F9282/staticImage?type=png&systemId=HOST'},\n",
       " 'accessibility': {'info': 'There is a limit of 1 accessible seat with 3 companion seats per transaction.'},\n",
       " 'ticketLimit': {'info': 'There is an overall 8 ticket limit for this event.'},\n",
       " '_links': {'self': {'href': '/discovery/v2/events/vvG1VZ4Yw2Ly1e?locale=en-us'},\n",
       "  'attractions': [{'href': '/discovery/v2/attractions/K8vZ917uyff?locale=en-us'}],\n",
       "  'venues': [{'href': '/discovery/v2/venues/KovZpZAFnl1A?locale=en-us'}]},\n",
       " '_embedded': {'venues': [{'name': 'Raymond James Stadium',\n",
       "    'type': 'venue',\n",
       "    'id': 'KovZpZAFnl1A',\n",
       "    'test': False,\n",
       "    'url': 'https://www.ticketmaster.com/raymond-james-stadium-tickets-tampa/venue/106526',\n",
       "    'locale': 'en-us',\n",
       "    'images': [{'ratio': '16_9',\n",
       "      'url': 'https://s1.ticketm.net/dbimages/5858v.gif',\n",
       "      'width': 205,\n",
       "      'height': 115,\n",
       "      'fallback': False}],\n",
       "    'postalCode': '33607',\n",
       "    'timezone': 'America/New_York',\n",
       "    'city': {'name': 'Tampa'},\n",
       "    'state': {'name': 'Florida', 'stateCode': 'FL'},\n",
       "    'country': {'name': 'United States Of America', 'countryCode': 'US'},\n",
       "    'address': {'line1': '4201 North Dale Mabry Highway'},\n",
       "    'location': {'longitude': '-82.503474', 'latitude': '27.975976'},\n",
       "    'markets': [{'name': 'Tampa', 'id': '21'}],\n",
       "    'dmas': [{'id': 396}],\n",
       "    'boxOfficeInfo': {'phoneNumberDetail': 'Stadium Office Number: Tampa Bay Bucaneers: (813)879-2827 Buccaneer Groups Sales:(813)870-2700 (ask for Group Sales) Stadium Jumping Inc: (813)253-2782 USF Football: 1-800-GOBULLS Outback Bowl: (813)874-2695',\n",
       "     'openHoursDetail': 'The ticket office located on property at the Raymond James Stadium is open day of event only. The various organizations that use Raymond James Stadium have varying hours of operation. The number(s) for these organizations are listed under \"Box Office Phone Numbers\".',\n",
       "     'acceptedPaymentDetail': 'TAMPA BAY BUCCANEERS: Cash, Visa, MasterCard, American Express & Discover / USF FOOTBALL: Cash, Visa, MasterCard, American Express / STADIUM JUMPING: Cash / All Other Events: Cash',\n",
       "     'willCallDetail': 'Location: box office (south end of the staduim) Opens: day of event (Please contact the proper organization for specific times)'},\n",
       "    'parkingDetail': 'Location: around Stadium Charge: - $25.00 Tampa Bay Buccaneers - $25.00 Concerts - $25.00 Outback Bowl - $15.00 USF Football Others Events - varies Patrons with accessible needs should contact the stadium at (813)350-6500 for specific information regarding parking. Accessible parking is available for purchase on the day of the event only - not available for advance purchase.',\n",
       "    'accessibleSeatingDetail': 'This is an accessible venue. Raymond James Stadium would like for you to know that is fraud if you purchase an accessible ticket knowing you are not eligible for accessible seating.',\n",
       "    'generalInfo': {'generalRule': 'Items NOT allowed: - Containers including cans,bottles,glasses, and coolers - Food or drink - Umbrellas or anything that would obstruct a fan\\'s view - Strollers - Weapons/fireworks - Poles/Sticks(except those to assist disabled guests) - Objects that may become missiles or projectiles - Objects that obstruct guests view or interfere with a guests ability to enjoy the event (ie boom boxes and whistles) - Horns of any type - Lasers - Thunder sticks - Footballs - Skates, Skateboards, Cycles (bi-, tri-, or uni-) - Pets (except assistive animals) - Recording Devices, video cameras, cameras with lenses longer than 12\" - No Re-entry - Large bags or purses - Backpacks - Seat Cushions - Banners or Flags with sticks or poles Items Allowed : - binoculars - cameras - lenses under 12\" - blankets and towels if unrolled or unfolded - small/handheld radios or TVs with earphones - hats - banners/flags WITHOUT sticks or poles - empty spray bottle - ponchos (if worn or carried over the arm or in original factory sealed package) - fanny packs - empty handheld cooling fans (misters) - small megaphones - 1 Clear Bag no larger than 12\" x 6\" x 12\" and 1 Small Clutch bag no larger than 4.5\" x 6.5\" NOTES: - You and your belongings may be searched upon entry into the stadium, and prohibited items may be confiscated. By tendering this ticket and entering the stadium, you consent to such searches and waive any related claims that you might have against the NFL, its Member Clubs, its affiliates, or its agents. If you elect not to consent to these searches, you will be denied entry into the stadium. - Prohibited items will NOT be stored at the gates. They must be returned to your vehicle or thrown away. - Contraband items will not be permitted into the stadium and cannot be stored at the stadium. They must be returned to the car or thrown away. - Banners must meet the stadium\\'s code of good taste and approved by a TSA stadium manager. - There is no stadium re-entry, if you leave the stadium, you will NOT be permitted to re-enter. - Flash photography may not be allowed for some events. ** Stadium personnel will inspect and open any items allowed in facility. This policy is for the safety of all in attendance ** Actions Prohibited in Raymond James Stadium: - Smoking Policy: Smoking is NOT permitted while seated inside the stadium (except in designated locations) - Throwing or kicking any objects - Standing on chairs - Stepping over chair backs - Standing or sitting in thest areas: main level, club level or upper level walkways, aisles, ramps and chair backs - Disorderly conduct including public intoxication, fighting and profanity - Abuse of intoxicants - Spitting tobacco juice - Placing cups on any walls - Running or jogging - Entering field without proper credential NOTE: Infractions may warrant ejection and/or arrest. Actions & Items NOT Permitted in the Parking Lots: - Weapons or fireworks - Infringing on another guests area when tailgating - Saving parking spaces - Throwing or kicking of balls or other objects - Disorderly conduct (including profanity) - Running or jogging - Tents without proper permits or approval - Picketing or political campaigning - Distributing handbills or pamphlets - All cars are subject to search',\n",
       "     'childRule': 'FOR TAMPA BAY BUCANEERS: Everyone must have a ticket to enter. FOR USF FOOTBALL: All persons over three (3) years of age must have a paid ticket for admittance. FOR OUTBACK BOWL: Ages 0-2 are free if on lap (no ticket is required). If child has reached their 3rd birthday, they must have a ticket to enter. OTHER EVENTS: policy varies'},\n",
       "    'upcomingEvents': {'_total': 12, 'ticketmaster': 12},\n",
       "    '_links': {'self': {'href': '/discovery/v2/venues/KovZpZAFnl1A?locale=en-us'}}}],\n",
       "  'attractions': [{'name': 'Monster Jam',\n",
       "    'type': 'attraction',\n",
       "    'id': 'K8vZ917uyff',\n",
       "    'test': False,\n",
       "    'url': 'https://www.ticketmaster.com/monster-jam-tickets/artist/1542376',\n",
       "    'locale': 'en-us',\n",
       "    'images': [{'ratio': '16_9',\n",
       "      'url': 'https://s1.ticketm.net/dam/a/c4e/92102166-b67c-4449-b1a5-395cd1f9ac4e_1154611_RECOMENDATION_16_9.jpg',\n",
       "      'width': 100,\n",
       "      'height': 56,\n",
       "      'fallback': False},\n",
       "     {'ratio': '16_9',\n",
       "      'url': 'https://s1.ticketm.net/dam/a/c4e/92102166-b67c-4449-b1a5-395cd1f9ac4e_1154611_RETINA_LANDSCAPE_16_9.jpg',\n",
       "      'width': 1136,\n",
       "      'height': 639,\n",
       "      'fallback': False},\n",
       "     {'ratio': '3_2',\n",
       "      'url': 'https://s1.ticketm.net/dam/a/c4e/92102166-b67c-4449-b1a5-395cd1f9ac4e_1154611_TABLET_LANDSCAPE_3_2.jpg',\n",
       "      'width': 1024,\n",
       "      'height': 683,\n",
       "      'fallback': False},\n",
       "     {'ratio': '16_9',\n",
       "      'url': 'https://s1.ticketm.net/dam/a/c4e/92102166-b67c-4449-b1a5-395cd1f9ac4e_1154611_RETINA_PORTRAIT_16_9.jpg',\n",
       "      'width': 640,\n",
       "      'height': 360,\n",
       "      'fallback': False},\n",
       "     {'ratio': '3_2',\n",
       "      'url': 'https://s1.ticketm.net/dam/a/c4e/92102166-b67c-4449-b1a5-395cd1f9ac4e_1154611_ARTIST_PAGE_3_2.jpg',\n",
       "      'width': 305,\n",
       "      'height': 203,\n",
       "      'fallback': False},\n",
       "     {'ratio': '16_9',\n",
       "      'url': 'https://s1.ticketm.net/dam/a/c4e/92102166-b67c-4449-b1a5-395cd1f9ac4e_1154611_EVENT_DETAIL_PAGE_16_9.jpg',\n",
       "      'width': 205,\n",
       "      'height': 115,\n",
       "      'fallback': False},\n",
       "     {'ratio': '3_2',\n",
       "      'url': 'https://s1.ticketm.net/dam/a/c4e/92102166-b67c-4449-b1a5-395cd1f9ac4e_1154611_RETINA_PORTRAIT_3_2.jpg',\n",
       "      'width': 640,\n",
       "      'height': 427,\n",
       "      'fallback': False},\n",
       "     {'ratio': '16_9',\n",
       "      'url': 'https://s1.ticketm.net/dam/a/c4e/92102166-b67c-4449-b1a5-395cd1f9ac4e_1154611_TABLET_LANDSCAPE_LARGE_16_9.jpg',\n",
       "      'width': 2048,\n",
       "      'height': 1152,\n",
       "      'fallback': False},\n",
       "     {'ratio': '16_9',\n",
       "      'url': 'https://s1.ticketm.net/dam/a/c4e/92102166-b67c-4449-b1a5-395cd1f9ac4e_1154611_TABLET_LANDSCAPE_16_9.jpg',\n",
       "      'width': 1024,\n",
       "      'height': 576,\n",
       "      'fallback': False},\n",
       "     {'ratio': '4_3',\n",
       "      'url': 'https://s1.ticketm.net/dam/a/c4e/92102166-b67c-4449-b1a5-395cd1f9ac4e_1154611_CUSTOM.jpg',\n",
       "      'width': 305,\n",
       "      'height': 225,\n",
       "      'fallback': False}],\n",
       "    'classifications': [{'primary': True,\n",
       "      'segment': {'id': 'KZFzniwnSyZfZ7v7nE', 'name': 'Sports'},\n",
       "      'genre': {'id': 'KnvZfZ7vA7k', 'name': 'Motorsports/Racing'},\n",
       "      'subGenre': {'id': 'KZazBEonSMnZfZ7vFt7', 'name': 'Motorsports/Racing'},\n",
       "      'type': {'id': 'KZAyXgnZfZ7v7nI', 'name': 'Undefined'},\n",
       "      'subType': {'id': 'KZFzBErXgnZfZ7v7lJ', 'name': 'Undefined'},\n",
       "      'family': False}],\n",
       "    'upcomingEvents': {'_total': 140,\n",
       "     'tmr': 10,\n",
       "     'mfx-de': 2,\n",
       "     'ticketmaster': 128},\n",
       "    '_links': {'self': {'href': '/discovery/v2/attractions/K8vZ917uyff?locale=en-us'}}}]}}"
      ]
     },
     "execution_count": 67,
     "metadata": {},
     "output_type": "execute_result"
    }
   ],
   "source": [
    "lisp[19]"
   ]
  },
  {
   "cell_type": "code",
   "execution_count": null,
   "metadata": {},
   "outputs": [],
   "source": [
    "### STUBHUB"
   ]
  },
  {
   "cell_type": "code",
   "execution_count": 52,
   "metadata": {},
   "outputs": [],
   "source": [
    "apist = 'TSmEQV6BxiGFqGpBDeP7YVN7Pyx9AAXC'\n",
    "url = 'https://api.stubhub.com//partners/search/performers/v3/'"
   ]
  },
  {
   "cell_type": "code",
   "execution_count": 76,
   "metadata": {},
   "outputs": [],
   "source": [
    "repo = requests.get('https://api.stubhub.com/sellers/oauth/accesstoken'.format(apist))\n"
   ]
  },
  {
   "cell_type": "code",
   "execution_count": 77,
   "metadata": {},
   "outputs": [
    {
     "data": {
      "text/plain": [
       "{'fault': {'faultstring': 'Invalid access token',\n",
       "  'detail': {'errorcode': 'oauth.v2.InvalidAccessToken'}}}"
      ]
     },
     "execution_count": 77,
     "metadata": {},
     "output_type": "execute_result"
    }
   ],
   "source": [
    "repo.json()"
   ]
  },
  {
   "cell_type": "code",
   "execution_count": null,
   "metadata": {},
   "outputs": [],
   "source": [
    "### EVENTBRITE"
   ]
  },
  {
   "cell_type": "code",
   "execution_count": null,
   "metadata": {},
   "outputs": [],
   "source": [
    "api = 'T3DUCRI3OPCXUJFMNRUS'"
   ]
  },
  {
   "cell_type": "code",
   "execution_count": null,
   "metadata": {},
   "outputs": [],
   "source": []
  },
  {
   "cell_type": "code",
   "execution_count": null,
   "metadata": {},
   "outputs": [],
   "source": []
  },
  {
   "cell_type": "code",
   "execution_count": null,
   "metadata": {},
   "outputs": [],
   "source": [
    "### SPOTIFY"
   ]
  },
  {
   "cell_type": "code",
   "execution_count": 59,
   "metadata": {},
   "outputs": [],
   "source": [
    "client_id = '334d242761034615a00a15a86a936bc7'\n",
    "call = 'SYMBOL_SEARCH'\n",
    "keyword = 'treasury'"
   ]
  },
  {
   "cell_type": "code",
   "execution_count": 74,
   "metadata": {},
   "outputs": [],
   "source": [
    "rep = requests.get('https://api.spotify.com/v1/artists/{}'.format(client_id))\n"
   ]
  },
  {
   "cell_type": "code",
   "execution_count": 75,
   "metadata": {},
   "outputs": [
    {
     "data": {
      "text/plain": [
       "{'error': {'status': 401, 'message': 'No token provided'}}"
      ]
     },
     "execution_count": 75,
     "metadata": {},
     "output_type": "execute_result"
    }
   ],
   "source": [
    "rep.json()"
   ]
  },
  {
   "cell_type": "code",
   "execution_count": null,
   "metadata": {},
   "outputs": [],
   "source": [
    "### BILLBOARD"
   ]
  },
  {
   "cell_type": "code",
   "execution_count": 69,
   "metadata": {},
   "outputs": [
    {
     "name": "stdout",
     "output_type": "stream",
     "text": [
      "{\"message\":\"You are not subscribed to this API.\"}\n"
     ]
    }
   ],
   "source": [
    "url = \"https://billboard-api2.p.rapidapi.com/billboard-200\"\n",
    "\n",
    "querystring = {\"date\":\"2019-05-11\"}\n",
    "\n",
    "headers = {\n",
    "    'x-rapidapi-host': \"billboard-api2.p.rapidapi.com\",\n",
    "    'x-rapidapi-key': \"2323ea1330msh17b46093ddda46fp18c36ejsn1d31cb349191\"\n",
    "    }\n",
    "\n",
    "response = requests.request(\"GET\", url, headers=headers, params=querystring)\n",
    "\n",
    "print(response.text)\n"
   ]
  },
  {
   "cell_type": "code",
   "execution_count": null,
   "metadata": {},
   "outputs": [],
   "source": []
  }
 ],
 "metadata": {
  "kernelspec": {
   "display_name": "Python 3",
   "language": "python",
   "name": "python3"
  },
  "language_info": {
   "codemirror_mode": {
    "name": "ipython",
    "version": 3
   },
   "file_extension": ".py",
   "mimetype": "text/x-python",
   "name": "python",
   "nbconvert_exporter": "python",
   "pygments_lexer": "ipython3",
   "version": "3.7.3"
  }
 },
 "nbformat": 4,
 "nbformat_minor": 2
}
